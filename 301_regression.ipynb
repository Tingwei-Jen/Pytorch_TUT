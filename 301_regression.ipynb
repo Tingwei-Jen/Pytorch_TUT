{
 "cells": [
  {
   "cell_type": "code",
   "execution_count": 1,
   "metadata": {
    "collapsed": true
   },
   "outputs": [],
   "source": [
    "import torch\n",
    "from torch.autograd import Variable\n",
    "import torch.nn.functional as F\n",
    "import matplotlib.pyplot as plt\n",
    "%matplotlib inline"
   ]
  },
  {
   "cell_type": "code",
   "execution_count": 2,
   "metadata": {},
   "outputs": [
    {
     "data": {
      "text/plain": [
       "<torch._C.Generator at 0x7f07301b2f48>"
      ]
     },
     "execution_count": 2,
     "metadata": {},
     "output_type": "execute_result"
    }
   ],
   "source": [
    "torch.manual_seed(1)    # reproducible"
   ]
  },
  {
   "cell_type": "code",
   "execution_count": 9,
   "metadata": {
    "scrolled": true
   },
   "outputs": [
    {
     "data": {
      "image/png": "[encoded data removed]",
      "text/plain": [
       "<matplotlib.figure.Figure at 0x7f06e8927860>"
      ]
     },
     "metadata": {},
     "output_type": "display_data"
    }
   ],
   "source": [
    "x = torch.unsqueeze(torch.linspace(-1,1,100),dim=1)\n",
    "type(x)\n",
    "y = x.pow(2)+ 0.2*torch.rand(x.size())\n",
    "\n",
    "x = Variable(x)\n",
    "y = Variable(y)\n",
    "\n",
    "plt.scatter(x.data.numpy(), y.data.numpy())\n",
    "plt.show()"
   ]
  },
  {
   "cell_type": "code",
   "execution_count": 13,
   "metadata": {},
   "outputs": [],
   "source": [
    "class Net(torch.nn.Module):\n",
    "    def __init__(self, n_features, n_hidden, n_output):\n",
    "        super(Net, self).__init__()\n",
    "        self.hidden = torch.nn.Linear(n_features, n_hidden)      #hidden layer\n",
    "        self.predict = torch.nn.Linear(n_hidden, n_output)       # output layer\n",
    "        \n",
    "    def forward(self, x):\n",
    "        x = F.relu(self.hidden(x))   # activation function for hidden layer\n",
    "        x = self.predict(x)          # linear output\n",
    "        return x\n"
   ]
  },
  {
   "cell_type": "code",
   "execution_count": 16,
   "metadata": {},
   "outputs": [
    {
     "name": "stdout",
     "output_type": "stream",
     "text": [
      "Net (\n",
      "  (hidden): Linear (1 -> 10)\n",
      "  (predict): Linear (10 -> 1)\n",
      ")\n"
     ]
    }
   ],
   "source": [
    "regression_net = Net(n_features=1,n_hidden=10,n_output=1)\n",
    "print(regression_net)"
   ]
  },
  {
   "cell_type": "code",
   "execution_count": 24,
   "metadata": {
    "collapsed": true
   },
   "outputs": [],
   "source": [
    "optimizer = torch.optim.SGD(regression_net.parameters(), lr=0.5)\n",
    "loss_func = torch.nn.MSELoss()                                         # this is for regression mean squared loss"
   ]
  },
  {
   "cell_type": "code",
   "execution_count": 25,
   "metadata": {
    "collapsed": true
   },
   "outputs": [],
   "source": [
    "plt.ion()   # something about plotting"
   ]
  },
  {
   "cell_type": "code",
   "execution_count": 29,
   "metadata": {},
   "outputs": [
    {
     "name": "stdout",
     "output_type": "stream",
     "text": [
      "0.003828341607004404\n",
      "0.003826757660135627\n",
      "0.003825221676379442\n",
      "0.003823731327429414\n",
      "0.003822288243100047\n",
      "0.0038208868354558945\n",
      "0.0038195252418518066\n",
      "0.0038182034622877836\n",
      "0.0038168940227478743\n",
      "0.0038156218361109495\n",
      "0.003814385738223791\n",
      "0.0038131820037961006\n",
      "0.0038120157551020384\n",
      "0.003810877911746502\n",
      "0.0038097724318504333\n",
      "0.003808694425970316\n",
      "0.003807646222412586\n",
      "0.0038066247943788767\n",
      "0.003805631771683693\n",
      "0.0038046622648835182\n",
      "0.003803717205300927\n",
      "0.0038027968257665634\n",
      "0.0038018992636352777\n",
      "0.0038010210264474154\n",
      "0.003800166305154562\n",
      "0.003799332305788994\n",
      "0.0037985160015523434\n",
      "0.0037977215833961964\n",
      "0.0037969439290463924\n",
      "0.0037961832713335752\n",
      "0.0037954410072416067\n",
      "0.003794715739786625\n",
      "0.0037940063048154116\n",
      "0.003793311072513461\n",
      "0.0037926321383565664\n",
      "0.0037919669412076473\n",
      "0.0037913164123892784\n",
      "0.0037906793877482414\n",
      "0.003790056798607111\n",
      "0.0037894463166594505\n",
      "0.0037888481747359037\n",
      "0.003788260743021965\n",
      "0.0037876861169934273\n",
      "0.0037871224340051413\n",
      "0.003786570392549038\n",
      "0.00378602952696383\n",
      "0.0037854311522096395\n",
      "0.0037843084428459406\n",
      "0.0037832260131835938\n",
      "0.0037821682635694742\n",
      "0.0037811321672052145\n",
      "0.0037801137659698725\n",
      "0.003779113059863448\n",
      "0.003778130514547229\n",
      "0.0037771640345454216\n",
      "0.0037762122228741646\n",
      "0.003775274846702814\n",
      "0.003774353303015232\n",
      "0.0037734443321824074\n",
      "0.003772549331188202\n",
      "0.0037716671358793974\n",
      "0.003770797047764063\n",
      "0.0037699404638260603\n",
      "0.0037690966855734587\n",
      "0.003768262453377247\n",
      "0.0037672824691981077\n",
      "0.003765771398320794\n",
      "0.0037642985116690397\n",
      "0.00376285333186388\n",
      "0.003761434927582741\n",
      "0.0037600419018417597\n",
      "0.003758670063689351\n",
      "0.0037573210429400206\n",
      "0.0037559920456260443\n",
      "0.0037546828389167786\n",
      "0.003753391792997718\n",
      "0.003752121701836586\n",
      "0.003750865813344717\n",
      "0.0037496306467801332\n",
      "0.003748185932636261\n",
      "0.0037454727571457624\n",
      "0.00374285108409822\n",
      "0.0037402885500341654\n",
      "0.0037377795670181513\n",
      "0.003735313657671213\n",
      "0.0037328938487917185\n",
      "0.0037305152509361506\n",
      "0.0037281739059835672\n",
      "0.0037258686497807503\n",
      "0.003723552916198969\n",
      "0.003721212036907673\n",
      "0.0037189072463661432\n",
      "0.0037166327238082886\n",
      "0.0037143900990486145\n",
      "0.00371217867359519\n",
      "0.0037099963519722223\n",
      "0.0037078403402119875\n",
      "0.0037057120352983475\n",
      "0.0037036098074167967\n",
      "0.0037017122376710176\n"
     ]
    }
   ],
   "source": [
    "for t in range(100):\n",
    "    prediction = regression_net(x)\n",
    "    loss = loss_func(prediction, y)\n",
    "    \n",
    "    optimizer.zero_grad()     # clear gradients for next train\n",
    "    loss.backward()           # backpropagation, compute gradients\n",
    "    optimizer.step()          # apply gradients\n",
    "    \n",
    "    print(loss.data[0])\n",
    "    #if t % 10 == 0:\n",
    "        # plot and show learning process\n",
    "        #plt.cla()\n",
    "        #plt.scatter(x.data.numpy(), y.data.numpy())\n",
    "        #plt.plot(x.data.numpy(), prediction.data.numpy(), 'r-', lw=5)\n",
    "        #plt.text(0.5, 0, 'Loss=%.4f' % loss.data[0], fontdict={'size': 20, 'color':  'red'})\n",
    "        #plt.show()\n",
    "        #plt.pause(0.2)\n",
    "\n",
    "#plt.ioff()    \n",
    "    "
   ]
  },
  {
   "cell_type": "code",
   "execution_count": null,
   "metadata": {
    "collapsed": true
   },
   "outputs": [],
   "source": []
  }
 ],
 "metadata": {
  "kernelspec": {
   "display_name": "Python 3",
   "language": "python",
   "name": "python3"
  },
  "language_info": {
   "codemirror_mode": {
    "name": "ipython",
    "version": 3
   },
   "file_extension": ".py",
   "mimetype": "text/x-python",
   "name": "python",
   "nbconvert_exporter": "python",
   "pygments_lexer": "ipython3",
   "version": "3.6.1"
  }
 },
 "nbformat": 4,
 "nbformat_minor": 2
}
